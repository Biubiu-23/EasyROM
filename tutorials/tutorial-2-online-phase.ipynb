{
 "cells": [
  {
   "cell_type": "markdown",
   "metadata": {},
   "source": [
    "# EZyRB"
   ]
  },
  {
   "cell_type": "markdown",
   "metadata": {},
   "source": [
    "## Tutorial 2: Model Reduction on a vtk pressure field - online phase"
   ]
  },
  {
   "cell_type": "markdown",
   "metadata": {},
   "source": [
    "In this tutorial we will show the typical workflow for the online evaluation of the output of interest. \n",
    "First of all we just import ezyrb and numpy package."
   ]
  },
  {
   "cell_type": "code",
   "execution_count": 1,
   "metadata": {
    "collapsed": false
   },
   "outputs": [],
   "source": [
    "import ezyrb.online as on\n",
    "import numpy as np"
   ]
  },
  {
   "cell_type": "markdown",
   "metadata": {},
   "source": [
    "Here we set the parameters we need to load the (already saved) offline structures and evaluate the new output:\n",
    "\n",
    "- `mu_value` is the value of the parameters for the new evaluation;\n",
    "- `output_name` is the suffix of the files containing the structures to be loaded. in order to identify the proper structure to upload among others within the same directory, it is the same name as the name of the output extracted in the offline phase;\n",
    "- `directory` is the directory where the structures are stored;\n",
    "- `is_scalar` is a boolean to set if the output of interest is a scalar or a field."
   ]
  },
  {
   "cell_type": "code",
   "execution_count": 2,
   "metadata": {
    "collapsed": true
   },
   "outputs": [],
   "source": [
    "mu_value = np.array([.0, .0])\n",
    "output_name = 'Pressure'\n",
    "directory = '../tests/test_datasets/'\n",
    "is_scalar = False"
   ]
  },
  {
   "cell_type": "markdown",
   "metadata": {},
   "source": [
    "Now we initialize the online_handler. Then we need to start it in order to evaluate the output for the new value of the parameters value."
   ]
  },
  {
   "cell_type": "code",
   "execution_count": 3,
   "metadata": {
    "collapsed": false
   },
   "outputs": [
    {
     "ename": "TypeError",
     "evalue": "__init__() got an unexpected keyword argument 'directory'",
     "output_type": "error",
     "traceback": [
      "\u001b[0;31m---------------------------------------------------------------------------\u001b[0m",
      "\u001b[0;31mTypeError\u001b[0m                                 Traceback (most recent call last)",
      "\u001b[0;32m<ipython-input-3-31dc8835ae04>\u001b[0m in \u001b[0;36m<module>\u001b[0;34m()\u001b[0m\n\u001b[0;32m----> 1\u001b[0;31m \u001b[0monline_handler\u001b[0m \u001b[0;34m=\u001b[0m \u001b[0mon\u001b[0m\u001b[0;34m.\u001b[0m\u001b[0mOnline\u001b[0m\u001b[0;34m(\u001b[0m\u001b[0mmu_value\u001b[0m\u001b[0;34m,\u001b[0m \u001b[0moutput_name\u001b[0m\u001b[0;34m,\u001b[0m \u001b[0mdirectory\u001b[0m\u001b[0;34m=\u001b[0m\u001b[0mdirectory\u001b[0m\u001b[0;34m,\u001b[0m \u001b[0mis_scalar\u001b[0m\u001b[0;34m=\u001b[0m\u001b[0mis_scalar\u001b[0m\u001b[0;34m)\u001b[0m\u001b[0;34m\u001b[0m\u001b[0m\n\u001b[0m\u001b[1;32m      2\u001b[0m \u001b[0monline_handler\u001b[0m\u001b[0;34m.\u001b[0m\u001b[0mrun\u001b[0m\u001b[0;34m(\u001b[0m\u001b[0;34m)\u001b[0m\u001b[0;34m\u001b[0m\u001b[0m\n",
      "\u001b[0;31mTypeError\u001b[0m: __init__() got an unexpected keyword argument 'directory'"
     ]
    }
   ],
   "source": [
    "online_handler = on.Online(mu_value, output_name, directory=directory, is_scalar=is_scalar)\n",
    "online_handler.run()"
   ]
  },
  {
   "cell_type": "markdown",
   "metadata": {},
   "source": [
    "Now we have the output evaluation stored in online_handler.output.\n",
    "This is simply represented by a numpy array. In order to visualize the result we write the vtk file with this ouput.\n",
    "First we set `filename` (name of the output file) and `infile` (name of the input file). Then we actually write the file."
   ]
  },
  {
   "cell_type": "code",
   "execution_count": null,
   "metadata": {
    "collapsed": true
   },
   "outputs": [],
   "source": [
    "filename = 'online_evaluation.vtk'\n",
    "infile   = '../tests/test_datasets/matlab_online_test.vtk'\n",
    "online_handler.write_file(filename, infile)"
   ]
  },
  {
   "cell_type": "markdown",
   "metadata": {},
   "source": [
    "Previously we have already computed the output of interest with the high-fidelity solver. In this way, we can provide a visual comparison between the two fields, as shown in the following. First picture represents the evaluated pressure field, whereas the second represents the \"true\" pressure.\n",
    "\n",
    "![](pictures/online_evaluation.png)\n",
    "\n",
    "![](pictures/high_fidelity_solution.png)\n",
    "\n",
    "As you can easily see, the evaluated field is not perfect, but we must recall that we used only 5 snapshots during the offline stage (the four corners and the first parametric point suggested by the argorithm).\n",
    "If you are not satisfied with the result for your problem at hand, you can go back to the offline step and simply enrich the database with more and more solutions."
   ]
  }
 ],
 "metadata": {
  "anaconda-cloud": {},
  "kernelspec": {
   "display_name": "Python [Root]",
   "language": "python",
   "name": "Python [Root]"
  },
  "language_info": {
   "codemirror_mode": {
    "name": "ipython",
    "version": 2
   },
   "file_extension": ".py",
   "mimetype": "text/x-python",
   "name": "python",
   "nbconvert_exporter": "python",
   "pygments_lexer": "ipython2",
   "version": "2.7.10"
  }
 },
 "nbformat": 4,
 "nbformat_minor": 0
}
