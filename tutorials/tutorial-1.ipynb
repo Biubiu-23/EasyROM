{
 "cells": [
  {
   "cell_type": "markdown",
   "metadata": {},
   "source": [
    "# EZyRB"
   ]
  },
  {
   "cell_type": "markdown",
   "metadata": {},
   "source": [
    "## Tutorial 1: Model Reduction on a vtk pressure field - offline phase"
   ]
  },
  {
   "cell_type": "markdown",
   "metadata": {},
   "source": [
    "In this tutorial we will show the typical workflow. \n",
    "First of all we just import ezyrb package."
   ]
  },
  {
   "cell_type": "code",
   "execution_count": 1,
   "metadata": {
    "collapsed": true
   },
   "outputs": [],
   "source": [
    "import ezyrb as ez"
   ]
  },
  {
   "cell_type": "markdown",
   "metadata": {},
   "source": [
    "Here we define the parameters that we use to extract all the informations from the vtk file:\n",
    "- output_name is the name of the variable (or output) we want to extract from the solution file;\n",
    "- weights_name is the name of the weights to be extracted from the solution file for the computation of the errors;\n",
    "- namefile_prefix is the path and prefix of the solution files. The files are supposed to be named with the same prefix, plus an increasing numeration (from 00) in the same order as the parameter points;\n",
    "- file_format is the format of the solution files."
   ]
  },
  {
   "cell_type": "code",
   "execution_count": 2,
   "metadata": {
    "collapsed": true
   },
   "outputs": [],
   "source": [
    "output_name = 'Pressure'\n",
    "weights_name = 'Weights'\n",
    "namefile_prefix = '../tests/test_datasets/matlab_0'\n",
    "file_format = '.vtk'"
   ]
  },
  {
   "cell_type": "markdown",
   "metadata": {},
   "source": [
    "Now we initialize the file_handler that deals with all the vtk files. Then we need to start it in order to extract the output on the corners of the parametric domain. The code prints to the screen the leave-one-out error on the parametric points and suggests the new parameter value for the next simulation."
   ]
  },
  {
   "cell_type": "code",
   "execution_count": 3,
   "metadata": {
    "collapsed": false
   },
   "outputs": [
    {
     "name": "stdout",
     "output_type": "stream",
     "text": [
      "Maximum error on the tassellation: 0.149130123954\n",
      "New baricentric parameter value added to the triangulation [-0.29334384 -0.2312056 ]\n",
      "\n"
     ]
    }
   ],
   "source": [
    "file_handler = ez.pod.Pod(output_name, weights_name, namefile_prefix, file_format)\n",
    "file_handler.start()"
   ]
  },
  {
   "cell_type": "markdown",
   "metadata": {},
   "source": [
    "Then the algorithm waits for a new sequential vtk output. To emphasise the iterative procedure we explicit the while True cycle. We think is the best way to interact with the package. If the user choose True he has to run a new simulation with the new parameter suggested before ([-0.29334384 -0.2312056]) and then place the new vtk output with the sequential name in the same folder as the others (namefile_prefix). If the user choose False the code writes out the structures needed for the online phase. Here we respond True and then False just as an example."
   ]
  },
  {
   "cell_type": "code",
   "execution_count": 4,
   "metadata": {
    "collapsed": false
   },
   "outputs": [
    {
     "name": "stdout",
     "output_type": "stream",
     "text": [
      "Add a new snapshot to the database? (True or False)  True\n",
      "Maximum error on the tassellation: 0.0698192605503\n",
      "New baricentric parameter value added to the triangulation [-0.1596712   0.33999215]\n",
      "\n",
      "Add a new snapshot to the database? (True or False)  False\n"
     ]
    }
   ],
   "source": [
    "while True:\n",
    "    add = input('Add a new snapshot to the database? (True or False)  ')\n",
    "    if add == True:\n",
    "        file_handler.add_snapshot()\n",
    "    else:\n",
    "        file_handler.write_structures()\n",
    "        break"
   ]
  },
  {
   "cell_type": "code",
   "execution_count": null,
   "metadata": {
    "collapsed": true
   },
   "outputs": [],
   "source": []
  }
 ],
 "metadata": {
  "kernelspec": {
   "display_name": "Python 2",
   "language": "python",
   "name": "python2"
  },
  "language_info": {
   "codemirror_mode": {
    "name": "ipython",
    "version": 2
   },
   "file_extension": ".py",
   "mimetype": "text/x-python",
   "name": "python",
   "nbconvert_exporter": "python",
   "pygments_lexer": "ipython2",
   "version": "2.7.10"
  }
 },
 "nbformat": 4,
 "nbformat_minor": 0
}
