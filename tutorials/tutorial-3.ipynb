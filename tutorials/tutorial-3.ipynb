{
 "cells": [
  {
   "cell_type": "markdown",
   "metadata": {},
   "source": [
    "# EZyRB"
   ]
  },
  {
   "cell_type": "markdown",
   "metadata": {},
   "source": [
    "## Tutorial 3: Use of the Graphic Unit Interface (GUI)"
   ]
  },
  {
   "cell_type": "markdown",
   "metadata": {},
   "source": [
    "In this tutorial we will show the typical workflow for the model order reduction using the GUI. \n",
    "Basically, go to the EZyRB main directory, open the terminal and type:\n",
    "\n",
    "```bash\n",
    "> python start_gui.py\n",
    "```"
   ]
  },
  {
   "cell_type": "markdown",
   "metadata": {},
   "source": [
    "The command opens the graphic unit interface, like the one in figure\n",
    "\n",
    "![EZyRB gui start](pictures/EZyRB_gui_start.png)\n",
    "\n",
    "We will focus first on the offline step, where we build the POD basis."
   ]
  },
  {
   "cell_type": "markdown",
   "metadata": {},
   "source": [
    "### Offline step"
   ]
  },
  {
   "cell_type": "markdown",
   "metadata": {},
   "source": [
    "Let us now set all the parameters we need for the problem at hand (the same as Tutorial 1 and Tutorial 2):\n",
    "\n",
    "* the output files we want to use are stored in the directory `tests/test_datasets` with prefix `matlab_0`. Thus, in the first line, we write `tests/test_datasets/matlab_0`\n",
    "* the name of the weights for each value of the output (that we exploit for the computation of the errors) is simply `Weights`. Thus, in the second line we write `Weights`\n",
    "* The output of interest is the pressure field. In the `matlab_0*.vtk` the pressure field is named `Pressure`, so we just type `Pressure` in the third line\n",
    "* as already mentioned, the output is a field and it is stored in a vtk file, so we tick `Field` and `.vtk` in the fourth and fifth line, respectively.\n",
    "\n",
    "The GUI should appear as\n",
    "\n",
    "![EZyRB gui set params](pictures/EZyRB_gui_set_params.png)\n"
   ]
  },
  {
   "cell_type": "markdown",
   "metadata": {},
   "source": [
    "Let us now start the algorithm by pressing on the `start EZyRB` button. Just below, the code suggest the new parameter values and the error estimation with the present database.\n",
    "\n",
    "![EZyRB gui new value](pictures/EZyRB_gui_new_value.png)"
   ]
  },
  {
   "cell_type": "markdown",
   "metadata": {},
   "source": [
    "Once we compute the output of interest with the new parameter value suggested, stored in the proper directory with the proper name (the same as `Path and Prefix` with increasing numeration) we can press the `Enrich` button. With a new output added to the database, the code suggest the new parameter values and the error estimation. \n",
    "\n",
    "![EZyRB gui enrich](pictures/EZyRB_gui_enrich.png)\n",
    "\n",
    "We end the algorithm by pressing the `Finish` button. In this way we write out the structures we need for the online step."
   ]
  },
  {
   "cell_type": "markdown",
   "metadata": {},
   "source": [
    "### Online step"
   ]
  },
  {
   "cell_type": "markdown",
   "metadata": {},
   "source": [
    "Let us now focus on the right part of the GUI:\n",
    "\n",
    "* we need to load the triangulation of the parameter space for the interpolation of the coefficients for the pod basis. Press on `Pick triangulation` and chose the correct file, that is, `coefs_tria_Pressure.npy`\n",
    "* of course, we need also to load the pod basis. Press on `Pick pod basis` and chose the correct file, that is, `pod_basis_Pressure.npy`\n",
    "* `Output of interest` is already set equal to the one of the Offline step. If you open the GUI only for the online step, we need to set the output name here.\n",
    "* the same procedures is valid for `Output is a` and `Select file format`\n",
    "* in order to write the new evaluation of the corresponding geometry, we need also to select a file containing the right geometry. Thus, we click on `File for parsing` and select the file containing (among other stuff) the proper geometry (`tests/test_datasets/matlab_online_test.vtk` in this case)\n",
    "* now we insert the new parameter values. Each value of the parameters must be separated by a comma\n",
    "* finally, we set the name of the new output file.\n",
    "\n",
    "When all the variables are set, just click on `Start EZyRB` button and this is it!\n",
    "\n",
    "When the algorithm ends its routines, it prints out a finish message on the bottom. The result looks like the one depicted in figure.\n",
    "\n",
    "![EZyRB gui online](pictures/EZyRB_gui_online.png)\n"
   ]
  }
 ],
 "metadata": {
  "kernelspec": {
   "display_name": "Python 2",
   "language": "python",
   "name": "python2"
  },
  "language_info": {
   "codemirror_mode": {
    "name": "ipython",
    "version": 2
   },
   "file_extension": ".py",
   "mimetype": "text/x-python",
   "name": "python",
   "nbconvert_exporter": "python",
   "pygments_lexer": "ipython2",
   "version": "2.7.6"
  }
 },
 "nbformat": 4,
 "nbformat_minor": 0
}
